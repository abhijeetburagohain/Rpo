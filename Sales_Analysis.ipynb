{
  "cells": [
    {
      "cell_type": "markdown",
      "metadata": {
        "id": "view-in-github",
        "colab_type": "text"
      },
      "source": [
        "<a href=\"https://colab.research.google.com/github/abhijeetburagohain/Rpo/blob/main/Sales_Analysis.ipynb\" target=\"_parent\"><img src=\"https://colab.research.google.com/assets/colab-badge.svg\" alt=\"Open In Colab\"/></a>"
      ]
    },
    {
      "cell_type": "code",
      "execution_count": null,
      "id": "90bac244",
      "metadata": {
        "id": "90bac244"
      },
      "outputs": [],
      "source": [
        "import pandas as pd\n",
        "import os\n",
        "import matplotlib.pyplot as plt"
      ]
    },
    {
      "cell_type": "raw",
      "id": "35351363",
      "metadata": {
        "id": "35351363"
      },
      "source": [
        "###Merging 12 months sales data into one file "
      ]
    },
    {
      "cell_type": "code",
      "execution_count": null,
      "id": "283eff5b",
      "metadata": {
        "id": "283eff5b",
        "colab": {
          "base_uri": "https://localhost:8080/",
          "height": 232
        },
        "outputId": "51473fe6-a0ce-40b5-ad12-b194a2296cd5"
      },
      "outputs": [
        {
          "output_type": "error",
          "ename": "FileNotFoundError",
          "evalue": "ignored",
          "traceback": [
            "\u001b[0;31m---------------------------------------------------------------------------\u001b[0m",
            "\u001b[0;31mFileNotFoundError\u001b[0m                         Traceback (most recent call last)",
            "\u001b[0;32m<ipython-input-27-50d593d709a9>\u001b[0m in \u001b[0;36m<module>\u001b[0;34m()\u001b[0m\n\u001b[1;32m      1\u001b[0m \u001b[0;34m\u001b[0m\u001b[0m\n\u001b[0;32m----> 2\u001b[0;31m \u001b[0mfiles\u001b[0m\u001b[0;34m=\u001b[0m\u001b[0;34m[\u001b[0m\u001b[0mfile\u001b[0m \u001b[0;32mfor\u001b[0m \u001b[0mfile\u001b[0m \u001b[0;32min\u001b[0m \u001b[0mos\u001b[0m\u001b[0;34m.\u001b[0m\u001b[0mlistdir\u001b[0m\u001b[0;34m(\u001b[0m\u001b[0;34m\"abhijeetburagohain/Downloads/PandasData/Sales_Data\"\u001b[0m\u001b[0;34m)\u001b[0m\u001b[0;34m]\u001b[0m\u001b[0;34m\u001b[0m\u001b[0;34m\u001b[0m\u001b[0m\n\u001b[0m\u001b[1;32m      3\u001b[0m \u001b[0;34m\u001b[0m\u001b[0m\n\u001b[1;32m      4\u001b[0m \u001b[0mall_months_data\u001b[0m\u001b[0;34m=\u001b[0m\u001b[0mpd\u001b[0m\u001b[0;34m.\u001b[0m\u001b[0mDataFrame\u001b[0m\u001b[0;34m(\u001b[0m\u001b[0;34m)\u001b[0m\u001b[0;34m\u001b[0m\u001b[0;34m\u001b[0m\u001b[0m\n\u001b[1;32m      5\u001b[0m \u001b[0;34m\u001b[0m\u001b[0m\n",
            "\u001b[0;31mFileNotFoundError\u001b[0m: [Errno 2] No such file or directory: 'abhijeetburagohain/Downloads/PandasData/Sales_Data'"
          ]
        }
      ],
      "source": [
        "\n",
        "files=[file for file in os.listdir(\"Downloads/PandasData/Sales_Data\")]\n",
        "\n",
        "all_months_data=pd.DataFrame()\n",
        "\n",
        "for file in files:\n",
        "    df=pd.read_csv(\"Downloads/PandasData/Sales_Data\"+file)\n",
        "    all_months_data=pd.concat([all_months_data,df])\n",
        "all_months_data.to_csv(\"all_data.csv\",index=False)"
      ]
    },
    {
      "cell_type": "markdown",
      "id": "92f45cee",
      "metadata": {
        "id": "92f45cee"
      },
      "source": [
        "Read in updated dataframe \n"
      ]
    },
    {
      "cell_type": "code",
      "execution_count": null,
      "id": "e13653e0",
      "metadata": {
        "id": "e13653e0",
        "outputId": "926887eb-1062-4a26-a0aa-c7e7c3a2ce6e",
        "colab": {
          "base_uri": "https://localhost:8080/",
          "height": 341
        }
      },
      "outputs": [
        {
          "output_type": "error",
          "ename": "FileNotFoundError",
          "evalue": "ignored",
          "traceback": [
            "\u001b[0;31m---------------------------------------------------------------------------\u001b[0m",
            "\u001b[0;31mFileNotFoundError\u001b[0m                         Traceback (most recent call last)",
            "\u001b[0;32m<ipython-input-15-13011024ccff>\u001b[0m in \u001b[0;36m<module>\u001b[0;34m()\u001b[0m\n\u001b[0;32m----> 1\u001b[0;31m \u001b[0mall_data\u001b[0m\u001b[0;34m=\u001b[0m\u001b[0mpd\u001b[0m\u001b[0;34m.\u001b[0m\u001b[0mread_csv\u001b[0m\u001b[0;34m(\u001b[0m\u001b[0;34m'all_data.csv'\u001b[0m\u001b[0;34m)\u001b[0m\u001b[0;34m\u001b[0m\u001b[0;34m\u001b[0m\u001b[0m\n\u001b[0m\u001b[1;32m      2\u001b[0m \u001b[0mall_data\u001b[0m\u001b[0;34m.\u001b[0m\u001b[0mhead\u001b[0m\u001b[0;34m(\u001b[0m\u001b[0;34m)\u001b[0m\u001b[0;34m\u001b[0m\u001b[0;34m\u001b[0m\u001b[0m\n",
            "\u001b[0;32m/usr/local/lib/python3.7/dist-packages/pandas/util/_decorators.py\u001b[0m in \u001b[0;36mwrapper\u001b[0;34m(*args, **kwargs)\u001b[0m\n\u001b[1;32m    309\u001b[0m                     \u001b[0mstacklevel\u001b[0m\u001b[0;34m=\u001b[0m\u001b[0mstacklevel\u001b[0m\u001b[0;34m,\u001b[0m\u001b[0;34m\u001b[0m\u001b[0;34m\u001b[0m\u001b[0m\n\u001b[1;32m    310\u001b[0m                 )\n\u001b[0;32m--> 311\u001b[0;31m             \u001b[0;32mreturn\u001b[0m \u001b[0mfunc\u001b[0m\u001b[0;34m(\u001b[0m\u001b[0;34m*\u001b[0m\u001b[0margs\u001b[0m\u001b[0;34m,\u001b[0m \u001b[0;34m**\u001b[0m\u001b[0mkwargs\u001b[0m\u001b[0;34m)\u001b[0m\u001b[0;34m\u001b[0m\u001b[0;34m\u001b[0m\u001b[0m\n\u001b[0m\u001b[1;32m    312\u001b[0m \u001b[0;34m\u001b[0m\u001b[0m\n\u001b[1;32m    313\u001b[0m         \u001b[0;32mreturn\u001b[0m \u001b[0mwrapper\u001b[0m\u001b[0;34m\u001b[0m\u001b[0;34m\u001b[0m\u001b[0m\n",
            "\u001b[0;32m/usr/local/lib/python3.7/dist-packages/pandas/io/parsers/readers.py\u001b[0m in \u001b[0;36mread_csv\u001b[0;34m(filepath_or_buffer, sep, delimiter, header, names, index_col, usecols, squeeze, prefix, mangle_dupe_cols, dtype, engine, converters, true_values, false_values, skipinitialspace, skiprows, skipfooter, nrows, na_values, keep_default_na, na_filter, verbose, skip_blank_lines, parse_dates, infer_datetime_format, keep_date_col, date_parser, dayfirst, cache_dates, iterator, chunksize, compression, thousands, decimal, lineterminator, quotechar, quoting, doublequote, escapechar, comment, encoding, encoding_errors, dialect, error_bad_lines, warn_bad_lines, on_bad_lines, delim_whitespace, low_memory, memory_map, float_precision, storage_options)\u001b[0m\n\u001b[1;32m    584\u001b[0m     \u001b[0mkwds\u001b[0m\u001b[0;34m.\u001b[0m\u001b[0mupdate\u001b[0m\u001b[0;34m(\u001b[0m\u001b[0mkwds_defaults\u001b[0m\u001b[0;34m)\u001b[0m\u001b[0;34m\u001b[0m\u001b[0;34m\u001b[0m\u001b[0m\n\u001b[1;32m    585\u001b[0m \u001b[0;34m\u001b[0m\u001b[0m\n\u001b[0;32m--> 586\u001b[0;31m     \u001b[0;32mreturn\u001b[0m \u001b[0m_read\u001b[0m\u001b[0;34m(\u001b[0m\u001b[0mfilepath_or_buffer\u001b[0m\u001b[0;34m,\u001b[0m \u001b[0mkwds\u001b[0m\u001b[0;34m)\u001b[0m\u001b[0;34m\u001b[0m\u001b[0;34m\u001b[0m\u001b[0m\n\u001b[0m\u001b[1;32m    587\u001b[0m \u001b[0;34m\u001b[0m\u001b[0m\n\u001b[1;32m    588\u001b[0m \u001b[0;34m\u001b[0m\u001b[0m\n",
            "\u001b[0;32m/usr/local/lib/python3.7/dist-packages/pandas/io/parsers/readers.py\u001b[0m in \u001b[0;36m_read\u001b[0;34m(filepath_or_buffer, kwds)\u001b[0m\n\u001b[1;32m    480\u001b[0m \u001b[0;34m\u001b[0m\u001b[0m\n\u001b[1;32m    481\u001b[0m     \u001b[0;31m# Create the parser.\u001b[0m\u001b[0;34m\u001b[0m\u001b[0;34m\u001b[0m\u001b[0;34m\u001b[0m\u001b[0m\n\u001b[0;32m--> 482\u001b[0;31m     \u001b[0mparser\u001b[0m \u001b[0;34m=\u001b[0m \u001b[0mTextFileReader\u001b[0m\u001b[0;34m(\u001b[0m\u001b[0mfilepath_or_buffer\u001b[0m\u001b[0;34m,\u001b[0m \u001b[0;34m**\u001b[0m\u001b[0mkwds\u001b[0m\u001b[0;34m)\u001b[0m\u001b[0;34m\u001b[0m\u001b[0;34m\u001b[0m\u001b[0m\n\u001b[0m\u001b[1;32m    483\u001b[0m \u001b[0;34m\u001b[0m\u001b[0m\n\u001b[1;32m    484\u001b[0m     \u001b[0;32mif\u001b[0m \u001b[0mchunksize\u001b[0m \u001b[0;32mor\u001b[0m \u001b[0miterator\u001b[0m\u001b[0;34m:\u001b[0m\u001b[0;34m\u001b[0m\u001b[0;34m\u001b[0m\u001b[0m\n",
            "\u001b[0;32m/usr/local/lib/python3.7/dist-packages/pandas/io/parsers/readers.py\u001b[0m in \u001b[0;36m__init__\u001b[0;34m(self, f, engine, **kwds)\u001b[0m\n\u001b[1;32m    809\u001b[0m             \u001b[0mself\u001b[0m\u001b[0;34m.\u001b[0m\u001b[0moptions\u001b[0m\u001b[0;34m[\u001b[0m\u001b[0;34m\"has_index_names\"\u001b[0m\u001b[0;34m]\u001b[0m \u001b[0;34m=\u001b[0m \u001b[0mkwds\u001b[0m\u001b[0;34m[\u001b[0m\u001b[0;34m\"has_index_names\"\u001b[0m\u001b[0;34m]\u001b[0m\u001b[0;34m\u001b[0m\u001b[0;34m\u001b[0m\u001b[0m\n\u001b[1;32m    810\u001b[0m \u001b[0;34m\u001b[0m\u001b[0m\n\u001b[0;32m--> 811\u001b[0;31m         \u001b[0mself\u001b[0m\u001b[0;34m.\u001b[0m\u001b[0m_engine\u001b[0m \u001b[0;34m=\u001b[0m \u001b[0mself\u001b[0m\u001b[0;34m.\u001b[0m\u001b[0m_make_engine\u001b[0m\u001b[0;34m(\u001b[0m\u001b[0mself\u001b[0m\u001b[0;34m.\u001b[0m\u001b[0mengine\u001b[0m\u001b[0;34m)\u001b[0m\u001b[0;34m\u001b[0m\u001b[0;34m\u001b[0m\u001b[0m\n\u001b[0m\u001b[1;32m    812\u001b[0m \u001b[0;34m\u001b[0m\u001b[0m\n\u001b[1;32m    813\u001b[0m     \u001b[0;32mdef\u001b[0m \u001b[0mclose\u001b[0m\u001b[0;34m(\u001b[0m\u001b[0mself\u001b[0m\u001b[0;34m)\u001b[0m\u001b[0;34m:\u001b[0m\u001b[0;34m\u001b[0m\u001b[0;34m\u001b[0m\u001b[0m\n",
            "\u001b[0;32m/usr/local/lib/python3.7/dist-packages/pandas/io/parsers/readers.py\u001b[0m in \u001b[0;36m_make_engine\u001b[0;34m(self, engine)\u001b[0m\n\u001b[1;32m   1038\u001b[0m             )\n\u001b[1;32m   1039\u001b[0m         \u001b[0;31m# error: Too many arguments for \"ParserBase\"\u001b[0m\u001b[0;34m\u001b[0m\u001b[0;34m\u001b[0m\u001b[0;34m\u001b[0m\u001b[0m\n\u001b[0;32m-> 1040\u001b[0;31m         \u001b[0;32mreturn\u001b[0m \u001b[0mmapping\u001b[0m\u001b[0;34m[\u001b[0m\u001b[0mengine\u001b[0m\u001b[0;34m]\u001b[0m\u001b[0;34m(\u001b[0m\u001b[0mself\u001b[0m\u001b[0;34m.\u001b[0m\u001b[0mf\u001b[0m\u001b[0;34m,\u001b[0m \u001b[0;34m**\u001b[0m\u001b[0mself\u001b[0m\u001b[0;34m.\u001b[0m\u001b[0moptions\u001b[0m\u001b[0;34m)\u001b[0m  \u001b[0;31m# type: ignore[call-arg]\u001b[0m\u001b[0;34m\u001b[0m\u001b[0;34m\u001b[0m\u001b[0m\n\u001b[0m\u001b[1;32m   1041\u001b[0m \u001b[0;34m\u001b[0m\u001b[0m\n\u001b[1;32m   1042\u001b[0m     \u001b[0;32mdef\u001b[0m \u001b[0m_failover_to_python\u001b[0m\u001b[0;34m(\u001b[0m\u001b[0mself\u001b[0m\u001b[0;34m)\u001b[0m\u001b[0;34m:\u001b[0m\u001b[0;34m\u001b[0m\u001b[0;34m\u001b[0m\u001b[0m\n",
            "\u001b[0;32m/usr/local/lib/python3.7/dist-packages/pandas/io/parsers/c_parser_wrapper.py\u001b[0m in \u001b[0;36m__init__\u001b[0;34m(self, src, **kwds)\u001b[0m\n\u001b[1;32m     49\u001b[0m \u001b[0;34m\u001b[0m\u001b[0m\n\u001b[1;32m     50\u001b[0m         \u001b[0;31m# open handles\u001b[0m\u001b[0;34m\u001b[0m\u001b[0;34m\u001b[0m\u001b[0;34m\u001b[0m\u001b[0m\n\u001b[0;32m---> 51\u001b[0;31m         \u001b[0mself\u001b[0m\u001b[0;34m.\u001b[0m\u001b[0m_open_handles\u001b[0m\u001b[0;34m(\u001b[0m\u001b[0msrc\u001b[0m\u001b[0;34m,\u001b[0m \u001b[0mkwds\u001b[0m\u001b[0;34m)\u001b[0m\u001b[0;34m\u001b[0m\u001b[0;34m\u001b[0m\u001b[0m\n\u001b[0m\u001b[1;32m     52\u001b[0m         \u001b[0;32massert\u001b[0m \u001b[0mself\u001b[0m\u001b[0;34m.\u001b[0m\u001b[0mhandles\u001b[0m \u001b[0;32mis\u001b[0m \u001b[0;32mnot\u001b[0m \u001b[0;32mNone\u001b[0m\u001b[0;34m\u001b[0m\u001b[0;34m\u001b[0m\u001b[0m\n\u001b[1;32m     53\u001b[0m \u001b[0;34m\u001b[0m\u001b[0m\n",
            "\u001b[0;32m/usr/local/lib/python3.7/dist-packages/pandas/io/parsers/base_parser.py\u001b[0m in \u001b[0;36m_open_handles\u001b[0;34m(self, src, kwds)\u001b[0m\n\u001b[1;32m    227\u001b[0m             \u001b[0mmemory_map\u001b[0m\u001b[0;34m=\u001b[0m\u001b[0mkwds\u001b[0m\u001b[0;34m.\u001b[0m\u001b[0mget\u001b[0m\u001b[0;34m(\u001b[0m\u001b[0;34m\"memory_map\"\u001b[0m\u001b[0;34m,\u001b[0m \u001b[0;32mFalse\u001b[0m\u001b[0;34m)\u001b[0m\u001b[0;34m,\u001b[0m\u001b[0;34m\u001b[0m\u001b[0;34m\u001b[0m\u001b[0m\n\u001b[1;32m    228\u001b[0m             \u001b[0mstorage_options\u001b[0m\u001b[0;34m=\u001b[0m\u001b[0mkwds\u001b[0m\u001b[0;34m.\u001b[0m\u001b[0mget\u001b[0m\u001b[0;34m(\u001b[0m\u001b[0;34m\"storage_options\"\u001b[0m\u001b[0;34m,\u001b[0m \u001b[0;32mNone\u001b[0m\u001b[0;34m)\u001b[0m\u001b[0;34m,\u001b[0m\u001b[0;34m\u001b[0m\u001b[0;34m\u001b[0m\u001b[0m\n\u001b[0;32m--> 229\u001b[0;31m             \u001b[0merrors\u001b[0m\u001b[0;34m=\u001b[0m\u001b[0mkwds\u001b[0m\u001b[0;34m.\u001b[0m\u001b[0mget\u001b[0m\u001b[0;34m(\u001b[0m\u001b[0;34m\"encoding_errors\"\u001b[0m\u001b[0;34m,\u001b[0m \u001b[0;34m\"strict\"\u001b[0m\u001b[0;34m)\u001b[0m\u001b[0;34m,\u001b[0m\u001b[0;34m\u001b[0m\u001b[0;34m\u001b[0m\u001b[0m\n\u001b[0m\u001b[1;32m    230\u001b[0m         )\n\u001b[1;32m    231\u001b[0m \u001b[0;34m\u001b[0m\u001b[0m\n",
            "\u001b[0;32m/usr/local/lib/python3.7/dist-packages/pandas/io/common.py\u001b[0m in \u001b[0;36mget_handle\u001b[0;34m(path_or_buf, mode, encoding, compression, memory_map, is_text, errors, storage_options)\u001b[0m\n\u001b[1;32m    705\u001b[0m                 \u001b[0mencoding\u001b[0m\u001b[0;34m=\u001b[0m\u001b[0mioargs\u001b[0m\u001b[0;34m.\u001b[0m\u001b[0mencoding\u001b[0m\u001b[0;34m,\u001b[0m\u001b[0;34m\u001b[0m\u001b[0;34m\u001b[0m\u001b[0m\n\u001b[1;32m    706\u001b[0m                 \u001b[0merrors\u001b[0m\u001b[0;34m=\u001b[0m\u001b[0merrors\u001b[0m\u001b[0;34m,\u001b[0m\u001b[0;34m\u001b[0m\u001b[0;34m\u001b[0m\u001b[0m\n\u001b[0;32m--> 707\u001b[0;31m                 \u001b[0mnewline\u001b[0m\u001b[0;34m=\u001b[0m\u001b[0;34m\"\"\u001b[0m\u001b[0;34m,\u001b[0m\u001b[0;34m\u001b[0m\u001b[0;34m\u001b[0m\u001b[0m\n\u001b[0m\u001b[1;32m    708\u001b[0m             )\n\u001b[1;32m    709\u001b[0m         \u001b[0;32melse\u001b[0m\u001b[0;34m:\u001b[0m\u001b[0;34m\u001b[0m\u001b[0;34m\u001b[0m\u001b[0m\n",
            "\u001b[0;31mFileNotFoundError\u001b[0m: [Errno 2] No such file or directory: 'all_data.csv'"
          ]
        }
      ],
      "source": [
        "all_data=pd.read_csv('all_data.csv')\n",
        "all_data.head()"
      ]
    },
    {
      "cell_type": "markdown",
      "id": "50681b0a",
      "metadata": {
        "id": "50681b0a"
      },
      "source": [
        "Clean the Data"
      ]
    },
    {
      "cell_type": "code",
      "execution_count": null,
      "id": "2436b72a",
      "metadata": {
        "id": "2436b72a"
      },
      "outputs": [],
      "source": [
        "nan_df=all_data[all_data.isna().any(axis=1)]\n",
        "\n",
        "all_data=all_data.dropna(how='all')"
      ]
    },
    {
      "cell_type": "markdown",
      "id": "d9640488",
      "metadata": {
        "id": "d9640488"
      },
      "source": [
        "find 'Or' and delete it"
      ]
    },
    {
      "cell_type": "code",
      "execution_count": null,
      "id": "4952b8c8",
      "metadata": {
        "id": "4952b8c8"
      },
      "outputs": [],
      "source": [
        "all_data=all_data[all_data['Order Date'].str[0:2]!='Or']"
      ]
    },
    {
      "cell_type": "markdown",
      "id": "b8fbfbdc",
      "metadata": {
        "id": "b8fbfbdc"
      },
      "source": [
        "Augment data with additional columns"
      ]
    },
    {
      "cell_type": "markdown",
      "id": "a364012f",
      "metadata": {
        "id": "a364012f"
      },
      "source": [
        "Add Month Column"
      ]
    },
    {
      "cell_type": "code",
      "execution_count": null,
      "id": "1a4b6bcb",
      "metadata": {
        "id": "1a4b6bcb"
      },
      "outputs": [],
      "source": [
        "all_data['Month']=all_data['Order Date'].str[0:2]\n",
        "all_data['Month']=all_data['Month'].astype('int32')"
      ]
    },
    {
      "cell_type": "code",
      "execution_count": null,
      "id": "f18028e3",
      "metadata": {
        "id": "f18028e3",
        "outputId": "2b28475a-b4d4-4372-ef20-38bfadccccd0"
      },
      "outputs": [
        {
          "data": {
            "text/html": [
              "<div>\n",
              "<style scoped>\n",
              "    .dataframe tbody tr th:only-of-type {\n",
              "        vertical-align: middle;\n",
              "    }\n",
              "\n",
              "    .dataframe tbody tr th {\n",
              "        vertical-align: top;\n",
              "    }\n",
              "\n",
              "    .dataframe thead th {\n",
              "        text-align: right;\n",
              "    }\n",
              "</style>\n",
              "<table border=\"1\" class=\"dataframe\">\n",
              "  <thead>\n",
              "    <tr style=\"text-align: right;\">\n",
              "      <th></th>\n",
              "      <th>Order ID</th>\n",
              "      <th>Product</th>\n",
              "      <th>Quantity Ordered</th>\n",
              "      <th>Price Each</th>\n",
              "      <th>Order Date</th>\n",
              "      <th>Purchase Address</th>\n",
              "      <th>Month</th>\n",
              "    </tr>\n",
              "  </thead>\n",
              "  <tbody>\n",
              "    <tr>\n",
              "      <th>0</th>\n",
              "      <td>295665</td>\n",
              "      <td>Macbook Pro Laptop</td>\n",
              "      <td>1</td>\n",
              "      <td>1700</td>\n",
              "      <td>12/30/19 00:01</td>\n",
              "      <td>136 Church St, New York City, NY 10001</td>\n",
              "      <td>12</td>\n",
              "    </tr>\n",
              "    <tr>\n",
              "      <th>1</th>\n",
              "      <td>295666</td>\n",
              "      <td>LG Washing Machine</td>\n",
              "      <td>1</td>\n",
              "      <td>600.0</td>\n",
              "      <td>12/29/19 07:03</td>\n",
              "      <td>562 2nd St, New York City, NY 10001</td>\n",
              "      <td>12</td>\n",
              "    </tr>\n",
              "    <tr>\n",
              "      <th>2</th>\n",
              "      <td>295667</td>\n",
              "      <td>USB-C Charging Cable</td>\n",
              "      <td>1</td>\n",
              "      <td>11.95</td>\n",
              "      <td>12/12/19 18:21</td>\n",
              "      <td>277 Main St, New York City, NY 10001</td>\n",
              "      <td>12</td>\n",
              "    </tr>\n",
              "    <tr>\n",
              "      <th>3</th>\n",
              "      <td>295668</td>\n",
              "      <td>27in FHD Monitor</td>\n",
              "      <td>1</td>\n",
              "      <td>149.99</td>\n",
              "      <td>12/22/19 15:13</td>\n",
              "      <td>410 6th St, San Francisco, CA 94016</td>\n",
              "      <td>12</td>\n",
              "    </tr>\n",
              "    <tr>\n",
              "      <th>4</th>\n",
              "      <td>295669</td>\n",
              "      <td>USB-C Charging Cable</td>\n",
              "      <td>1</td>\n",
              "      <td>11.95</td>\n",
              "      <td>12/18/19 12:38</td>\n",
              "      <td>43 Hill St, Atlanta, GA 30301</td>\n",
              "      <td>12</td>\n",
              "    </tr>\n",
              "  </tbody>\n",
              "</table>\n",
              "</div>"
            ],
            "text/plain": [
              "  Order ID               Product Quantity Ordered Price Each      Order Date  \\\n",
              "0   295665    Macbook Pro Laptop                1       1700  12/30/19 00:01   \n",
              "1   295666    LG Washing Machine                1      600.0  12/29/19 07:03   \n",
              "2   295667  USB-C Charging Cable                1      11.95  12/12/19 18:21   \n",
              "3   295668      27in FHD Monitor                1     149.99  12/22/19 15:13   \n",
              "4   295669  USB-C Charging Cable                1      11.95  12/18/19 12:38   \n",
              "\n",
              "                         Purchase Address  Month  \n",
              "0  136 Church St, New York City, NY 10001     12  \n",
              "1     562 2nd St, New York City, NY 10001     12  \n",
              "2    277 Main St, New York City, NY 10001     12  \n",
              "3     410 6th St, San Francisco, CA 94016     12  \n",
              "4           43 Hill St, Atlanta, GA 30301     12  "
            ]
          },
          "execution_count": 66,
          "metadata": {},
          "output_type": "execute_result"
        }
      ],
      "source": [
        "all_data.head()"
      ]
    },
    {
      "cell_type": "code",
      "execution_count": null,
      "id": "cc183f93",
      "metadata": {
        "id": "cc183f93"
      },
      "outputs": [],
      "source": [
        "all_data['Quantity Ordered']=pd.to_numeric(all_data['Quantity Ordered'])\n",
        "all_data['Price Each']=pd.to_numeric(all_data['Price Each'])"
      ]
    },
    {
      "cell_type": "markdown",
      "id": "e969c587",
      "metadata": {
        "id": "e969c587"
      },
      "source": [
        "Insert a Sales Column"
      ]
    },
    {
      "cell_type": "code",
      "execution_count": null,
      "id": "fffbc9b2",
      "metadata": {
        "id": "fffbc9b2",
        "outputId": "20b78831-20d3-4680-ea12-59b4a9442da2"
      },
      "outputs": [
        {
          "data": {
            "text/html": [
              "<div>\n",
              "<style scoped>\n",
              "    .dataframe tbody tr th:only-of-type {\n",
              "        vertical-align: middle;\n",
              "    }\n",
              "\n",
              "    .dataframe tbody tr th {\n",
              "        vertical-align: top;\n",
              "    }\n",
              "\n",
              "    .dataframe thead th {\n",
              "        text-align: right;\n",
              "    }\n",
              "</style>\n",
              "<table border=\"1\" class=\"dataframe\">\n",
              "  <thead>\n",
              "    <tr style=\"text-align: right;\">\n",
              "      <th></th>\n",
              "      <th>Order ID</th>\n",
              "      <th>Product</th>\n",
              "      <th>Quantity Ordered</th>\n",
              "      <th>Price Each</th>\n",
              "      <th>Order Date</th>\n",
              "      <th>Purchase Address</th>\n",
              "      <th>Month</th>\n",
              "      <th>Sales</th>\n",
              "    </tr>\n",
              "  </thead>\n",
              "  <tbody>\n",
              "    <tr>\n",
              "      <th>0</th>\n",
              "      <td>295665</td>\n",
              "      <td>Macbook Pro Laptop</td>\n",
              "      <td>1</td>\n",
              "      <td>1700.00</td>\n",
              "      <td>12/30/19 00:01</td>\n",
              "      <td>136 Church St, New York City, NY 10001</td>\n",
              "      <td>12</td>\n",
              "      <td>1700.00</td>\n",
              "    </tr>\n",
              "    <tr>\n",
              "      <th>1</th>\n",
              "      <td>295666</td>\n",
              "      <td>LG Washing Machine</td>\n",
              "      <td>1</td>\n",
              "      <td>600.00</td>\n",
              "      <td>12/29/19 07:03</td>\n",
              "      <td>562 2nd St, New York City, NY 10001</td>\n",
              "      <td>12</td>\n",
              "      <td>600.00</td>\n",
              "    </tr>\n",
              "    <tr>\n",
              "      <th>2</th>\n",
              "      <td>295667</td>\n",
              "      <td>USB-C Charging Cable</td>\n",
              "      <td>1</td>\n",
              "      <td>11.95</td>\n",
              "      <td>12/12/19 18:21</td>\n",
              "      <td>277 Main St, New York City, NY 10001</td>\n",
              "      <td>12</td>\n",
              "      <td>11.95</td>\n",
              "    </tr>\n",
              "    <tr>\n",
              "      <th>3</th>\n",
              "      <td>295668</td>\n",
              "      <td>27in FHD Monitor</td>\n",
              "      <td>1</td>\n",
              "      <td>149.99</td>\n",
              "      <td>12/22/19 15:13</td>\n",
              "      <td>410 6th St, San Francisco, CA 94016</td>\n",
              "      <td>12</td>\n",
              "      <td>149.99</td>\n",
              "    </tr>\n",
              "    <tr>\n",
              "      <th>4</th>\n",
              "      <td>295669</td>\n",
              "      <td>USB-C Charging Cable</td>\n",
              "      <td>1</td>\n",
              "      <td>11.95</td>\n",
              "      <td>12/18/19 12:38</td>\n",
              "      <td>43 Hill St, Atlanta, GA 30301</td>\n",
              "      <td>12</td>\n",
              "      <td>11.95</td>\n",
              "    </tr>\n",
              "  </tbody>\n",
              "</table>\n",
              "</div>"
            ],
            "text/plain": [
              "  Order ID               Product  Quantity Ordered  Price Each  \\\n",
              "0   295665    Macbook Pro Laptop                 1     1700.00   \n",
              "1   295666    LG Washing Machine                 1      600.00   \n",
              "2   295667  USB-C Charging Cable                 1       11.95   \n",
              "3   295668      27in FHD Monitor                 1      149.99   \n",
              "4   295669  USB-C Charging Cable                 1       11.95   \n",
              "\n",
              "       Order Date                        Purchase Address  Month    Sales  \n",
              "0  12/30/19 00:01  136 Church St, New York City, NY 10001     12  1700.00  \n",
              "1  12/29/19 07:03     562 2nd St, New York City, NY 10001     12   600.00  \n",
              "2  12/12/19 18:21    277 Main St, New York City, NY 10001     12    11.95  \n",
              "3  12/22/19 15:13     410 6th St, San Francisco, CA 94016     12   149.99  \n",
              "4  12/18/19 12:38           43 Hill St, Atlanta, GA 30301     12    11.95  "
            ]
          },
          "execution_count": 68,
          "metadata": {},
          "output_type": "execute_result"
        }
      ],
      "source": [
        "all_data['Sales']=all_data['Quantity Ordered']*all_data['Price Each']\n",
        "all_data.head()"
      ]
    },
    {
      "cell_type": "markdown",
      "id": "d2b02219",
      "metadata": {
        "id": "d2b02219"
      },
      "source": [
        "Insert a City Column"
      ]
    },
    {
      "cell_type": "code",
      "execution_count": null,
      "id": "adefe757",
      "metadata": {
        "id": "adefe757",
        "outputId": "60c8ed20-0d54-4c41-8f79-0dad6014cbef"
      },
      "outputs": [
        {
          "data": {
            "text/html": [
              "<div>\n",
              "<style scoped>\n",
              "    .dataframe tbody tr th:only-of-type {\n",
              "        vertical-align: middle;\n",
              "    }\n",
              "\n",
              "    .dataframe tbody tr th {\n",
              "        vertical-align: top;\n",
              "    }\n",
              "\n",
              "    .dataframe thead th {\n",
              "        text-align: right;\n",
              "    }\n",
              "</style>\n",
              "<table border=\"1\" class=\"dataframe\">\n",
              "  <thead>\n",
              "    <tr style=\"text-align: right;\">\n",
              "      <th></th>\n",
              "      <th>Order ID</th>\n",
              "      <th>Product</th>\n",
              "      <th>Quantity Ordered</th>\n",
              "      <th>Price Each</th>\n",
              "      <th>Order Date</th>\n",
              "      <th>Purchase Address</th>\n",
              "      <th>Month</th>\n",
              "      <th>Sales</th>\n",
              "      <th>City</th>\n",
              "    </tr>\n",
              "  </thead>\n",
              "  <tbody>\n",
              "    <tr>\n",
              "      <th>0</th>\n",
              "      <td>295665</td>\n",
              "      <td>Macbook Pro Laptop</td>\n",
              "      <td>1</td>\n",
              "      <td>1700.00</td>\n",
              "      <td>12/30/19 00:01</td>\n",
              "      <td>136 Church St, New York City, NY 10001</td>\n",
              "      <td>12</td>\n",
              "      <td>1700.00</td>\n",
              "      <td>New York City (NY)</td>\n",
              "    </tr>\n",
              "    <tr>\n",
              "      <th>1</th>\n",
              "      <td>295666</td>\n",
              "      <td>LG Washing Machine</td>\n",
              "      <td>1</td>\n",
              "      <td>600.00</td>\n",
              "      <td>12/29/19 07:03</td>\n",
              "      <td>562 2nd St, New York City, NY 10001</td>\n",
              "      <td>12</td>\n",
              "      <td>600.00</td>\n",
              "      <td>New York City (NY)</td>\n",
              "    </tr>\n",
              "    <tr>\n",
              "      <th>2</th>\n",
              "      <td>295667</td>\n",
              "      <td>USB-C Charging Cable</td>\n",
              "      <td>1</td>\n",
              "      <td>11.95</td>\n",
              "      <td>12/12/19 18:21</td>\n",
              "      <td>277 Main St, New York City, NY 10001</td>\n",
              "      <td>12</td>\n",
              "      <td>11.95</td>\n",
              "      <td>New York City (NY)</td>\n",
              "    </tr>\n",
              "    <tr>\n",
              "      <th>3</th>\n",
              "      <td>295668</td>\n",
              "      <td>27in FHD Monitor</td>\n",
              "      <td>1</td>\n",
              "      <td>149.99</td>\n",
              "      <td>12/22/19 15:13</td>\n",
              "      <td>410 6th St, San Francisco, CA 94016</td>\n",
              "      <td>12</td>\n",
              "      <td>149.99</td>\n",
              "      <td>San Francisco (CA)</td>\n",
              "    </tr>\n",
              "    <tr>\n",
              "      <th>4</th>\n",
              "      <td>295669</td>\n",
              "      <td>USB-C Charging Cable</td>\n",
              "      <td>1</td>\n",
              "      <td>11.95</td>\n",
              "      <td>12/18/19 12:38</td>\n",
              "      <td>43 Hill St, Atlanta, GA 30301</td>\n",
              "      <td>12</td>\n",
              "      <td>11.95</td>\n",
              "      <td>Atlanta (GA)</td>\n",
              "    </tr>\n",
              "  </tbody>\n",
              "</table>\n",
              "</div>"
            ],
            "text/plain": [
              "  Order ID               Product  Quantity Ordered  Price Each  \\\n",
              "0   295665    Macbook Pro Laptop                 1     1700.00   \n",
              "1   295666    LG Washing Machine                 1      600.00   \n",
              "2   295667  USB-C Charging Cable                 1       11.95   \n",
              "3   295668      27in FHD Monitor                 1      149.99   \n",
              "4   295669  USB-C Charging Cable                 1       11.95   \n",
              "\n",
              "       Order Date                        Purchase Address  Month    Sales  \\\n",
              "0  12/30/19 00:01  136 Church St, New York City, NY 10001     12  1700.00   \n",
              "1  12/29/19 07:03     562 2nd St, New York City, NY 10001     12   600.00   \n",
              "2  12/12/19 18:21    277 Main St, New York City, NY 10001     12    11.95   \n",
              "3  12/22/19 15:13     410 6th St, San Francisco, CA 94016     12   149.99   \n",
              "4  12/18/19 12:38           43 Hill St, Atlanta, GA 30301     12    11.95   \n",
              "\n",
              "                  City  \n",
              "0   New York City (NY)  \n",
              "1   New York City (NY)  \n",
              "2   New York City (NY)  \n",
              "3   San Francisco (CA)  \n",
              "4         Atlanta (GA)  "
            ]
          },
          "execution_count": 69,
          "metadata": {},
          "output_type": "execute_result"
        }
      ],
      "source": [
        "def get_city(address):\n",
        "    return address.split(',')[1]\n",
        "\n",
        "def get_state(address):\n",
        "    return address.split(',')[2].split(' ')[1]\n",
        "\n",
        "all_data['City']=all_data['Purchase Address'].apply(lambda x: f\"{get_city(x)} ({get_state(x)})\")\n",
        "all_data.head()"
      ]
    },
    {
      "cell_type": "markdown",
      "id": "65a29500",
      "metadata": {
        "id": "65a29500"
      },
      "source": [
        "Question:1:what is the best month for sales? How much was earned that month?"
      ]
    },
    {
      "cell_type": "code",
      "execution_count": null,
      "id": "b40687ee",
      "metadata": {
        "id": "b40687ee",
        "outputId": "66b1c0da-4b77-46f0-b6fc-9628a84c37b8"
      },
      "outputs": [
        {
          "data": {
            "text/html": [
              "<div>\n",
              "<style scoped>\n",
              "    .dataframe tbody tr th:only-of-type {\n",
              "        vertical-align: middle;\n",
              "    }\n",
              "\n",
              "    .dataframe tbody tr th {\n",
              "        vertical-align: top;\n",
              "    }\n",
              "\n",
              "    .dataframe thead th {\n",
              "        text-align: right;\n",
              "    }\n",
              "</style>\n",
              "<table border=\"1\" class=\"dataframe\">\n",
              "  <thead>\n",
              "    <tr style=\"text-align: right;\">\n",
              "      <th></th>\n",
              "      <th>Quantity Ordered</th>\n",
              "      <th>Price Each</th>\n",
              "      <th>Sales</th>\n",
              "    </tr>\n",
              "    <tr>\n",
              "      <th>Month</th>\n",
              "      <th></th>\n",
              "      <th></th>\n",
              "      <th></th>\n",
              "    </tr>\n",
              "  </thead>\n",
              "  <tbody>\n",
              "    <tr>\n",
              "      <th>1</th>\n",
              "      <td>10903</td>\n",
              "      <td>1811768.38</td>\n",
              "      <td>1822256.73</td>\n",
              "    </tr>\n",
              "    <tr>\n",
              "      <th>2</th>\n",
              "      <td>13449</td>\n",
              "      <td>2188884.72</td>\n",
              "      <td>2202022.42</td>\n",
              "    </tr>\n",
              "    <tr>\n",
              "      <th>3</th>\n",
              "      <td>17005</td>\n",
              "      <td>2791207.83</td>\n",
              "      <td>2807100.38</td>\n",
              "    </tr>\n",
              "    <tr>\n",
              "      <th>4</th>\n",
              "      <td>20558</td>\n",
              "      <td>3367671.02</td>\n",
              "      <td>3390670.24</td>\n",
              "    </tr>\n",
              "    <tr>\n",
              "      <th>5</th>\n",
              "      <td>18667</td>\n",
              "      <td>3135125.13</td>\n",
              "      <td>3152606.75</td>\n",
              "    </tr>\n",
              "  </tbody>\n",
              "</table>\n",
              "</div>"
            ],
            "text/plain": [
              "       Quantity Ordered  Price Each       Sales\n",
              "Month                                          \n",
              "1                 10903  1811768.38  1822256.73\n",
              "2                 13449  2188884.72  2202022.42\n",
              "3                 17005  2791207.83  2807100.38\n",
              "4                 20558  3367671.02  3390670.24\n",
              "5                 18667  3135125.13  3152606.75"
            ]
          },
          "execution_count": 70,
          "metadata": {},
          "output_type": "execute_result"
        }
      ],
      "source": [
        "results=all_data.groupby('Month').sum()\n",
        "results.head()\n"
      ]
    },
    {
      "cell_type": "code",
      "execution_count": null,
      "id": "b8daed30",
      "metadata": {
        "id": "b8daed30",
        "outputId": "713cc4d3-311a-49b3-b6c1-8a1b84ae60af"
      },
      "outputs": [
        {
          "data": {
            "image/png": "[encoded data removed]",
            "text/plain": [
              "<Figure size 432x288 with 1 Axes>"
            ]
          },
          "metadata": {
            "needs_background": "light"
          },
          "output_type": "display_data"
        }
      ],
      "source": [
        "months=range(1,13)\n",
        "plt.bar(months,results['Sales'])\n",
        "plt.xticks(months)\n",
        "plt.ylabel('Sales in USD')\n",
        "plt.xlabel('Month number')\n",
        "plt.show()"
      ]
    },
    {
      "cell_type": "markdown",
      "id": "e4dc43cb",
      "metadata": {
        "id": "e4dc43cb"
      },
      "source": [
        "Question:2:What city has the highest numberof sales?"
      ]
    },
    {
      "cell_type": "code",
      "execution_count": null,
      "id": "4b05e897",
      "metadata": {
        "id": "4b05e897",
        "outputId": "5340eb70-08ec-4a77-9725-158d531e28df"
      },
      "outputs": [
        {
          "data": {
            "text/html": [
              "<div>\n",
              "<style scoped>\n",
              "    .dataframe tbody tr th:only-of-type {\n",
              "        vertical-align: middle;\n",
              "    }\n",
              "\n",
              "    .dataframe tbody tr th {\n",
              "        vertical-align: top;\n",
              "    }\n",
              "\n",
              "    .dataframe thead th {\n",
              "        text-align: right;\n",
              "    }\n",
              "</style>\n",
              "<table border=\"1\" class=\"dataframe\">\n",
              "  <thead>\n",
              "    <tr style=\"text-align: right;\">\n",
              "      <th></th>\n",
              "      <th>Quantity Ordered</th>\n",
              "      <th>Price Each</th>\n",
              "      <th>Month</th>\n",
              "      <th>Sales</th>\n",
              "    </tr>\n",
              "    <tr>\n",
              "      <th>City</th>\n",
              "      <th></th>\n",
              "      <th></th>\n",
              "      <th></th>\n",
              "      <th></th>\n",
              "    </tr>\n",
              "  </thead>\n",
              "  <tbody>\n",
              "    <tr>\n",
              "      <th>Atlanta (GA)</th>\n",
              "      <td>16602</td>\n",
              "      <td>2779908.20</td>\n",
              "      <td>104794</td>\n",
              "      <td>2795498.58</td>\n",
              "    </tr>\n",
              "    <tr>\n",
              "      <th>Austin (TX)</th>\n",
              "      <td>11153</td>\n",
              "      <td>1809873.61</td>\n",
              "      <td>69829</td>\n",
              "      <td>1819581.75</td>\n",
              "    </tr>\n",
              "    <tr>\n",
              "      <th>Boston (MA)</th>\n",
              "      <td>22528</td>\n",
              "      <td>3637409.77</td>\n",
              "      <td>141112</td>\n",
              "      <td>3661642.01</td>\n",
              "    </tr>\n",
              "    <tr>\n",
              "      <th>Dallas (TX)</th>\n",
              "      <td>16730</td>\n",
              "      <td>2752627.82</td>\n",
              "      <td>104620</td>\n",
              "      <td>2767975.40</td>\n",
              "    </tr>\n",
              "    <tr>\n",
              "      <th>Los Angeles (CA)</th>\n",
              "      <td>33289</td>\n",
              "      <td>5421435.23</td>\n",
              "      <td>208325</td>\n",
              "      <td>5452570.80</td>\n",
              "    </tr>\n",
              "    <tr>\n",
              "      <th>New York City (NY)</th>\n",
              "      <td>27932</td>\n",
              "      <td>4635370.83</td>\n",
              "      <td>175741</td>\n",
              "      <td>4664317.43</td>\n",
              "    </tr>\n",
              "    <tr>\n",
              "      <th>Portland (ME)</th>\n",
              "      <td>2750</td>\n",
              "      <td>447189.25</td>\n",
              "      <td>17144</td>\n",
              "      <td>449758.27</td>\n",
              "    </tr>\n",
              "    <tr>\n",
              "      <th>Portland (OR)</th>\n",
              "      <td>11303</td>\n",
              "      <td>1860558.22</td>\n",
              "      <td>70621</td>\n",
              "      <td>1870732.34</td>\n",
              "    </tr>\n",
              "    <tr>\n",
              "      <th>San Francisco (CA)</th>\n",
              "      <td>50239</td>\n",
              "      <td>8211461.74</td>\n",
              "      <td>315520</td>\n",
              "      <td>8262203.91</td>\n",
              "    </tr>\n",
              "    <tr>\n",
              "      <th>Seattle (WA)</th>\n",
              "      <td>16553</td>\n",
              "      <td>2733296.01</td>\n",
              "      <td>104941</td>\n",
              "      <td>2747755.48</td>\n",
              "    </tr>\n",
              "  </tbody>\n",
              "</table>\n",
              "</div>"
            ],
            "text/plain": [
              "                     Quantity Ordered  Price Each   Month       Sales\n",
              "City                                                                 \n",
              " Atlanta (GA)                   16602  2779908.20  104794  2795498.58\n",
              " Austin (TX)                    11153  1809873.61   69829  1819581.75\n",
              " Boston (MA)                    22528  3637409.77  141112  3661642.01\n",
              " Dallas (TX)                    16730  2752627.82  104620  2767975.40\n",
              " Los Angeles (CA)               33289  5421435.23  208325  5452570.80\n",
              " New York City (NY)             27932  4635370.83  175741  4664317.43\n",
              " Portland (ME)                   2750   447189.25   17144   449758.27\n",
              " Portland (OR)                  11303  1860558.22   70621  1870732.34\n",
              " San Francisco (CA)             50239  8211461.74  315520  8262203.91\n",
              " Seattle (WA)                   16553  2733296.01  104941  2747755.48"
            ]
          },
          "execution_count": 72,
          "metadata": {},
          "output_type": "execute_result"
        }
      ],
      "source": [
        "results=all_data.groupby('City').sum()\n",
        "results\n",
        "\n"
      ]
    },
    {
      "cell_type": "code",
      "execution_count": null,
      "id": "a60c8f3b",
      "metadata": {
        "id": "a60c8f3b",
        "outputId": "ad45b072-63b3-47ac-871a-d16985b4b53b"
      },
      "outputs": [
        {
          "data": {
            "image/png": "[encoded data removed]",
            "text/plain": [
              "<Figure size 432x288 with 1 Axes>"
            ]
          },
          "metadata": {
            "needs_background": "light"
          },
          "output_type": "display_data"
        }
      ],
      "source": [
        "cities=[city for city,df in all_data.groupby('City')]\n",
        "\n",
        "plt.bar(cities,results['Sales'])\n",
        "plt.xticks(cities,rotation='vertical',size=8)\n",
        "plt.ylabel('Sales in USD')\n",
        "plt.xlabel('City Name')\n",
        "plt.show()"
      ]
    },
    {
      "cell_type": "markdown",
      "id": "010147f5",
      "metadata": {
        "id": "010147f5"
      },
      "source": [
        "Question:3:What time should we display advertisements to maximize the customers buying the products?"
      ]
    },
    {
      "cell_type": "code",
      "execution_count": null,
      "id": "1f5eb319",
      "metadata": {
        "id": "1f5eb319"
      },
      "outputs": [],
      "source": [
        "all_data['Order Date']=pd.to_datetime(all_data['Order Date'])"
      ]
    },
    {
      "cell_type": "code",
      "execution_count": null,
      "id": "72ee668f",
      "metadata": {
        "id": "72ee668f",
        "outputId": "6a5b139b-2bdd-487a-8b27-cc06e6867689"
      },
      "outputs": [
        {
          "data": {
            "text/html": [
              "<div>\n",
              "<style scoped>\n",
              "    .dataframe tbody tr th:only-of-type {\n",
              "        vertical-align: middle;\n",
              "    }\n",
              "\n",
              "    .dataframe tbody tr th {\n",
              "        vertical-align: top;\n",
              "    }\n",
              "\n",
              "    .dataframe thead th {\n",
              "        text-align: right;\n",
              "    }\n",
              "</style>\n",
              "<table border=\"1\" class=\"dataframe\">\n",
              "  <thead>\n",
              "    <tr style=\"text-align: right;\">\n",
              "      <th></th>\n",
              "      <th>Order ID</th>\n",
              "      <th>Product</th>\n",
              "      <th>Quantity Ordered</th>\n",
              "      <th>Price Each</th>\n",
              "      <th>Order Date</th>\n",
              "      <th>Purchase Address</th>\n",
              "      <th>Month</th>\n",
              "      <th>Sales</th>\n",
              "      <th>City</th>\n",
              "      <th>Hour</th>\n",
              "      <th>Minute</th>\n",
              "    </tr>\n",
              "  </thead>\n",
              "  <tbody>\n",
              "    <tr>\n",
              "      <th>0</th>\n",
              "      <td>295665</td>\n",
              "      <td>Macbook Pro Laptop</td>\n",
              "      <td>1</td>\n",
              "      <td>1700.00</td>\n",
              "      <td>2019-12-30 00:01:00</td>\n",
              "      <td>136 Church St, New York City, NY 10001</td>\n",
              "      <td>12</td>\n",
              "      <td>1700.00</td>\n",
              "      <td>New York City (NY)</td>\n",
              "      <td>0</td>\n",
              "      <td>1</td>\n",
              "    </tr>\n",
              "    <tr>\n",
              "      <th>1</th>\n",
              "      <td>295666</td>\n",
              "      <td>LG Washing Machine</td>\n",
              "      <td>1</td>\n",
              "      <td>600.00</td>\n",
              "      <td>2019-12-29 07:03:00</td>\n",
              "      <td>562 2nd St, New York City, NY 10001</td>\n",
              "      <td>12</td>\n",
              "      <td>600.00</td>\n",
              "      <td>New York City (NY)</td>\n",
              "      <td>7</td>\n",
              "      <td>3</td>\n",
              "    </tr>\n",
              "    <tr>\n",
              "      <th>2</th>\n",
              "      <td>295667</td>\n",
              "      <td>USB-C Charging Cable</td>\n",
              "      <td>1</td>\n",
              "      <td>11.95</td>\n",
              "      <td>2019-12-12 18:21:00</td>\n",
              "      <td>277 Main St, New York City, NY 10001</td>\n",
              "      <td>12</td>\n",
              "      <td>11.95</td>\n",
              "      <td>New York City (NY)</td>\n",
              "      <td>18</td>\n",
              "      <td>21</td>\n",
              "    </tr>\n",
              "    <tr>\n",
              "      <th>3</th>\n",
              "      <td>295668</td>\n",
              "      <td>27in FHD Monitor</td>\n",
              "      <td>1</td>\n",
              "      <td>149.99</td>\n",
              "      <td>2019-12-22 15:13:00</td>\n",
              "      <td>410 6th St, San Francisco, CA 94016</td>\n",
              "      <td>12</td>\n",
              "      <td>149.99</td>\n",
              "      <td>San Francisco (CA)</td>\n",
              "      <td>15</td>\n",
              "      <td>13</td>\n",
              "    </tr>\n",
              "    <tr>\n",
              "      <th>4</th>\n",
              "      <td>295669</td>\n",
              "      <td>USB-C Charging Cable</td>\n",
              "      <td>1</td>\n",
              "      <td>11.95</td>\n",
              "      <td>2019-12-18 12:38:00</td>\n",
              "      <td>43 Hill St, Atlanta, GA 30301</td>\n",
              "      <td>12</td>\n",
              "      <td>11.95</td>\n",
              "      <td>Atlanta (GA)</td>\n",
              "      <td>12</td>\n",
              "      <td>38</td>\n",
              "    </tr>\n",
              "  </tbody>\n",
              "</table>\n",
              "</div>"
            ],
            "text/plain": [
              "  Order ID               Product  Quantity Ordered  Price Each  \\\n",
              "0   295665    Macbook Pro Laptop                 1     1700.00   \n",
              "1   295666    LG Washing Machine                 1      600.00   \n",
              "2   295667  USB-C Charging Cable                 1       11.95   \n",
              "3   295668      27in FHD Monitor                 1      149.99   \n",
              "4   295669  USB-C Charging Cable                 1       11.95   \n",
              "\n",
              "           Order Date                        Purchase Address  Month    Sales  \\\n",
              "0 2019-12-30 00:01:00  136 Church St, New York City, NY 10001     12  1700.00   \n",
              "1 2019-12-29 07:03:00     562 2nd St, New York City, NY 10001     12   600.00   \n",
              "2 2019-12-12 18:21:00    277 Main St, New York City, NY 10001     12    11.95   \n",
              "3 2019-12-22 15:13:00     410 6th St, San Francisco, CA 94016     12   149.99   \n",
              "4 2019-12-18 12:38:00           43 Hill St, Atlanta, GA 30301     12    11.95   \n",
              "\n",
              "                  City  Hour  Minute  \n",
              "0   New York City (NY)     0       1  \n",
              "1   New York City (NY)     7       3  \n",
              "2   New York City (NY)    18      21  \n",
              "3   San Francisco (CA)    15      13  \n",
              "4         Atlanta (GA)    12      38  "
            ]
          },
          "execution_count": 75,
          "metadata": {},
          "output_type": "execute_result"
        }
      ],
      "source": [
        "all_data['Hour']=all_data['Order Date'].dt.hour\n",
        "all_data['Minute']=all_data['Order Date'].dt.minute\n",
        "all_data.head()"
      ]
    },
    {
      "cell_type": "code",
      "execution_count": null,
      "id": "676f47e2",
      "metadata": {
        "id": "676f47e2",
        "outputId": "1f5084ba-cb55-44dc-e114-a5f2f407eb51"
      },
      "outputs": [
        {
          "data": {
            "image/png": "[encoded data removed]",
            "text/plain": [
              "<Figure size 432x288 with 1 Axes>"
            ]
          },
          "metadata": {
            "needs_background": "light"
          },
          "output_type": "display_data"
        }
      ],
      "source": [
        "hours=[hour for hour,df in all_data.groupby('Hour')]\n",
        "plt.plot(hours,all_data.groupby(['Hour']).count())\n",
        "plt.xticks(hours)\n",
        "plt.xlabel('Hours')\n",
        "plt.ylabel('Number of Orders')\n",
        "plt.grid()\n",
        "plt.show()\n",
        "\n",
        "#we should advertise at around 11am and 7pm, for maximum benefit.\n"
      ]
    },
    {
      "cell_type": "markdown",
      "id": "1749100c",
      "metadata": {
        "id": "1749100c"
      },
      "source": [
        "Quesrion:4:What products are sold together most often?"
      ]
    },
    {
      "cell_type": "code",
      "execution_count": null,
      "id": "ec43ad43",
      "metadata": {
        "id": "ec43ad43",
        "outputId": "355e919a-9399-408e-a496-4c2fd9278312"
      },
      "outputs": [
        {
          "name": "stderr",
          "output_type": "stream",
          "text": [
            "/var/folders/fm/6g7pnjfx1fg8q710r999g5v40000gn/T/ipykernel_19439/3266358755.py:2: SettingWithCopyWarning: \n",
            "A value is trying to be set on a copy of a slice from a DataFrame.\n",
            "Try using .loc[row_indexer,col_indexer] = value instead\n",
            "\n",
            "See the caveats in the documentation: https://pandas.pydata.org/pandas-docs/stable/user_guide/indexing.html#returning-a-view-versus-a-copy\n",
            "  df['Grouped']=df.groupby('Order ID')['Product'].transform(lambda x:','.join(x))\n"
          ]
        },
        {
          "data": {
            "text/html": [
              "<div>\n",
              "<style scoped>\n",
              "    .dataframe tbody tr th:only-of-type {\n",
              "        vertical-align: middle;\n",
              "    }\n",
              "\n",
              "    .dataframe tbody tr th {\n",
              "        vertical-align: top;\n",
              "    }\n",
              "\n",
              "    .dataframe thead th {\n",
              "        text-align: right;\n",
              "    }\n",
              "</style>\n",
              "<table border=\"1\" class=\"dataframe\">\n",
              "  <thead>\n",
              "    <tr style=\"text-align: right;\">\n",
              "      <th></th>\n",
              "      <th>Order ID</th>\n",
              "      <th>Grouped</th>\n",
              "    </tr>\n",
              "  </thead>\n",
              "  <tbody>\n",
              "    <tr>\n",
              "      <th>16</th>\n",
              "      <td>295681</td>\n",
              "      <td>Google Phone,USB-C Charging Cable,Bose SoundSp...</td>\n",
              "    </tr>\n",
              "    <tr>\n",
              "      <th>36</th>\n",
              "      <td>295698</td>\n",
              "      <td>Vareebadd Phone,USB-C Charging Cable</td>\n",
              "    </tr>\n",
              "    <tr>\n",
              "      <th>42</th>\n",
              "      <td>295703</td>\n",
              "      <td>AA Batteries (4-pack),Bose SoundSport Headphones</td>\n",
              "    </tr>\n",
              "    <tr>\n",
              "      <th>66</th>\n",
              "      <td>295726</td>\n",
              "      <td>iPhone,Lightning Charging Cable</td>\n",
              "    </tr>\n",
              "    <tr>\n",
              "      <th>76</th>\n",
              "      <td>295735</td>\n",
              "      <td>iPhone,Apple Airpods Headphones,Wired Headphones</td>\n",
              "    </tr>\n",
              "  </tbody>\n",
              "</table>\n",
              "</div>"
            ],
            "text/plain": [
              "   Order ID                                            Grouped\n",
              "16   295681  Google Phone,USB-C Charging Cable,Bose SoundSp...\n",
              "36   295698               Vareebadd Phone,USB-C Charging Cable\n",
              "42   295703   AA Batteries (4-pack),Bose SoundSport Headphones\n",
              "66   295726                    iPhone,Lightning Charging Cable\n",
              "76   295735   iPhone,Apple Airpods Headphones,Wired Headphones"
            ]
          },
          "execution_count": 86,
          "metadata": {},
          "output_type": "execute_result"
        }
      ],
      "source": [
        "df=all_data[all_data['Order ID'].duplicated(keep=False)]\n",
        "df['Grouped']=df.groupby('Order ID')['Product'].transform(lambda x:','.join(x))\n",
        "df=df[['Order ID','Grouped']].drop_duplicates()\n",
        "df.head()"
      ]
    },
    {
      "cell_type": "code",
      "execution_count": null,
      "id": "7c43d3e4",
      "metadata": {
        "id": "7c43d3e4",
        "outputId": "fb600f34-7f88-4e3b-dba8-e95dfd55e58b"
      },
      "outputs": [
        {
          "name": "stdout",
          "output_type": "stream",
          "text": [
            "('iPhone', 'Lightning Charging Cable') 1005\n",
            "('Google Phone', 'USB-C Charging Cable') 987\n",
            "('iPhone', 'Wired Headphones') 447\n",
            "('Google Phone', 'Wired Headphones') 414\n",
            "('Vareebadd Phone', 'USB-C Charging Cable') 361\n",
            "('iPhone', 'Apple Airpods Headphones') 360\n",
            "('Google Phone', 'Bose SoundSport Headphones') 220\n",
            "('USB-C Charging Cable', 'Wired Headphones') 160\n",
            "('Vareebadd Phone', 'Wired Headphones') 143\n",
            "('Lightning Charging Cable', 'Wired Headphones') 92\n"
          ]
        }
      ],
      "source": [
        "from itertools import combinations\n",
        "from collections import Counter\n",
        "\n",
        "count=Counter()\n",
        "for row in df['Grouped']:\n",
        "    row_list=row.split(',')\n",
        "    count.update(Counter(combinations(row_list,2)))\n",
        "    \n",
        "for key,value in count.most_common(10):\n",
        "    print(key,value)\n",
        "    \n"
      ]
    },
    {
      "cell_type": "markdown",
      "id": "c7231c0f",
      "metadata": {
        "id": "c7231c0f"
      },
      "source": [
        "Question:5:What product sold the most and why do you think it sold the most?"
      ]
    },
    {
      "cell_type": "code",
      "execution_count": null,
      "id": "4dcf50af",
      "metadata": {
        "id": "4dcf50af",
        "outputId": "4df50f99-f203-47e6-842f-c458429186f8"
      },
      "outputs": [
        {
          "data": {
            "image/png": "[encoded data removed]",
            "text/plain": [
              "<Figure size 432x288 with 1 Axes>"
            ]
          },
          "metadata": {
            "needs_background": "light"
          },
          "output_type": "display_data"
        }
      ],
      "source": [
        "product_group=all_data.groupby('Product')\n",
        "quantity_ordered=product_group.sum()['Quantity Ordered']\n",
        "products=[product for product,df in product_group]\n",
        "plt.bar(products,quantity_ordered)\n",
        "plt.ylabel('Quantity Ordered')\n",
        "plt.xlabel('Product')\n",
        "plt.xticks(products,rotation='vertical',size=8)\n",
        "plt.show()\n"
      ]
    },
    {
      "cell_type": "code",
      "execution_count": null,
      "id": "76f0ce82",
      "metadata": {
        "scrolled": true,
        "id": "76f0ce82",
        "outputId": "c0509705-6787-40cd-815a-bc2de8021bdc"
      },
      "outputs": [
        {
          "name": "stderr",
          "output_type": "stream",
          "text": [
            "/var/folders/fm/6g7pnjfx1fg8q710r999g5v40000gn/T/ipykernel_19439/3019429204.py:9: UserWarning: FixedFormatter should only be used together with FixedLocator\n",
            "  ax1.set_xticklabels(products,rotation='vertical',size=8)\n"
          ]
        },
        {
          "data": {
            "image/png": "[encoded data removed]",
            "text/plain": [
              "<Figure size 432x288 with 2 Axes>"
            ]
          },
          "metadata": {
            "needs_background": "light"
          },
          "output_type": "display_data"
        }
      ],
      "source": [
        "prices=all_data.groupby('Product').mean()['Price Each']\n",
        "fig, ax1=plt.subplots()\n",
        "ax2=ax1.twinx()\n",
        "ax1.bar(products,quantity_ordered,color='r')\n",
        "ax2.plot(products,prices,'b-')\n",
        "ax1.set_xlabel('Product Name')\n",
        "ax1.set_ylabel('Quantity Ordered',color='r')\n",
        "ax2.set_ylabel('Price ($)',color='b')\n",
        "ax1.set_xticklabels(products,rotation='vertical',size=8)\n",
        "plt.show()"
      ]
    },
    {
      "cell_type": "markdown",
      "id": "910adf5e",
      "metadata": {
        "id": "910adf5e"
      },
      "source": [
        "AA-Batteries and AAA-batteries sold the most because they are cheap."
      ]
    },
    {
      "cell_type": "code",
      "execution_count": null,
      "id": "83af816d",
      "metadata": {
        "id": "83af816d"
      },
      "outputs": [],
      "source": [
        ""
      ]
    }
  ],
  "metadata": {
    "kernelspec": {
      "display_name": "Python 3 (ipykernel)",
      "language": "python",
      "name": "python3"
    },
    "language_info": {
      "codemirror_mode": {
        "name": "ipython",
        "version": 3
      },
      "file_extension": ".py",
      "mimetype": "text/x-python",
      "name": "python",
      "nbconvert_exporter": "python",
      "pygments_lexer": "ipython3",
      "version": "3.8.8"
    },
    "colab": {
      "name": "Sales Analysis.ipynb",
      "provenance": [],
      "collapsed_sections": [],
      "include_colab_link": true
    }
  },
  "nbformat": 4,
  "nbformat_minor": 5
}